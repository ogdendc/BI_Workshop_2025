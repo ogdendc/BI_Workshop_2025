{
 "cells": [
  {
   "cell_type": "code",
   "execution_count": 0,
   "metadata": {
    "application/vnd.databricks.v1+cell": {
     "cellMetadata": {
      "byteLimit": 10485760,
      "rowLimit": 1000
     },
     "inputWidgets": {},
     "nuid": "aa3260f3-6e17-4181-874a-146dc3678b02",
     "showTitle": false,
     "tableResultSettingsMap": {},
     "title": ""
    }
   },
   "outputs": [],
   "source": [
    "-- creating a table that maps our branches to Metros \n",
    "-- change the Volume path accordingly\n",
    "-- and populate the SQL variables for desired output location catalog, schema, table name\n",
    "\n",
    "CREATE OR REPLACE TABLE IDENTIFIER(:catalog || '.' || :schema || '.' || :table) AS\n",
    "                                -- ogden_demos.bi_workshop.branch_metro_map\n",
    "SELECT * FROM read_files(\n",
    "  '/Volumes/ogden_demos/bi_workshop/files_uploaded/branch_market_region_metro.csv',\n",
    "  format => 'CSV',\n",
    "  header => true,\n",
    "  schemaEvolutionMode => 'none' -- omit the rescueddata column\n",
    ")\n",
    ";\n",
    "\n",
    "SELECT * FROM IDENTIFIER(:catalog || '.' || :schema || '.' || :table);"
   ]
  }
 ],
 "metadata": {
  "application/vnd.databricks.v1+notebook": {
   "computePreferences": null,
   "dashboards": [],
   "environmentMetadata": null,
   "inputWidgetPreferences": null,
   "language": "sql",
   "notebookMetadata": {
    "pythonIndentUnit": 4,
    "sqlQueryOptions": {
     "applyAutoLimit": true,
     "catalog": "ogden_demos",
     "schema": "bi_workshop"
    }
   },
   "notebookName": "create metro map.dbquery.ipynb",
   "widgets": {
    "catalog": {
     "currentValue": "ogden_demos",
     "nuid": "a3bfde4f-698b-4732-8262-f4ff3279b279",
     "typedWidgetInfo": {
      "autoCreated": false,
      "defaultValue": "ogden_demos",
      "label": "catalog",
      "name": "catalog",
      "options": {
       "widgetDisplayType": "Text",
       "validationRegex": null
      },
      "parameterDataType": "String"
     },
     "widgetInfo": {
      "widgetType": "text",
      "defaultValue": "ogden_demos",
      "label": "catalog",
      "name": "catalog",
      "options": {
       "widgetType": "text",
       "autoCreated": false,
       "validationRegex": null
      }
     }
    },
    "schema": {
     "currentValue": "bi_workshop",
     "nuid": "6dc29e68-1b8b-427d-a19f-fac68a16dcf2",
     "typedWidgetInfo": {
      "autoCreated": false,
      "defaultValue": "bi_workshop",
      "label": "schema",
      "name": "schema",
      "options": {
       "widgetDisplayType": "Text",
       "validationRegex": null
      },
      "parameterDataType": "String"
     },
     "widgetInfo": {
      "widgetType": "text",
      "defaultValue": "bi_workshop",
      "label": "schema",
      "name": "schema",
      "options": {
       "widgetType": "text",
       "autoCreated": false,
       "validationRegex": null
      }
     }
    },
    "table": {
     "currentValue": "branch_metro_map",
     "nuid": "9c3a1580-ef6e-4d66-b2d3-2ae29868fd16",
     "typedWidgetInfo": {
      "autoCreated": false,
      "defaultValue": "branch_metro_map",
      "label": "table",
      "name": "table",
      "options": {
       "widgetDisplayType": "Text",
       "validationRegex": null
      },
      "parameterDataType": "String"
     },
     "widgetInfo": {
      "widgetType": "text",
      "defaultValue": "branch_metro_map",
      "label": "table",
      "name": "table",
      "options": {
       "widgetType": "text",
       "autoCreated": false,
       "validationRegex": null
      }
     }
    }
   }
  },
  "language_info": {
   "name": "sql"
  }
 },
 "nbformat": 4,
 "nbformat_minor": 0
}
