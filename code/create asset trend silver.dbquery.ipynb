{
 "cells": [
  {
   "cell_type": "code",
   "execution_count": 0,
   "metadata": {
    "application/vnd.databricks.v1+cell": {
     "cellMetadata": {},
     "inputWidgets": {},
     "nuid": "a6b2baf2-35ec-4cc1-9201-7cb565f88f2d",
     "showTitle": false,
     "tableResultSettingsMap": {},
     "title": ""
    }
   },
   "outputs": [],
   "source": [
    "-- joining the metro designations onto the branch trend data\n",
    "\n",
    "-- manually modify the catalog.schema.table(s) accordingly\n",
    "CREATE OR REPLACE TABLE IDENTIFIER(:catalog || '.' || :schema || '.' || :table_out) AS\n",
    "                                -- ogden_demos.bi_workshop.asset_trend_silver\n",
    "SELECT \n",
    "    a.*,\n",
    "    b.metro,\n",
    "    b.region_name\n",
    "FROM IDENTIFIER(:catalog || '.' || :schema || '.' || \"asset_trend_bronze\")  a\n",
    "LEFT JOIN \n",
    "     IDENTIFIER(:catalog || '.' || :schema || '.' || \"branch_metro_map\")  b\n",
    "ON \n",
    "    a.Branch_Market = b.branch_market\n",
    "    AND a.Branch_Region = b.branch_region  \n",
    ";\n",
    "\n",
    "SELECT * FROM IDENTIFIER(:catalog || '.' || :schema || '.' || :table_out);"
   ]
  }
 ],
 "metadata": {
  "application/vnd.databricks.v1+notebook": {
   "computePreferences": null,
   "dashboards": [],
   "environmentMetadata": null,
   "inputWidgetPreferences": null,
   "language": "sql",
   "notebookMetadata": {
    "pythonIndentUnit": 4,
    "sqlQueryOptions": {
     "applyAutoLimit": true,
     "catalog": "ogden_demos",
     "schema": "bi_workshop"
    }
   },
   "notebookName": "create asset trend silver.dbquery.ipynb",
   "widgets": {
    "catalog": {
     "currentValue": "ogden_demos",
     "nuid": "1f3c0b22-3da5-4f19-993a-3a0ecd246039",
     "typedWidgetInfo": {
      "autoCreated": false,
      "defaultValue": "ogden_demos",
      "label": "catalog",
      "name": "catalog",
      "options": {
       "widgetDisplayType": "Text",
       "validationRegex": null
      },
      "parameterDataType": "String"
     },
     "widgetInfo": {
      "widgetType": "text",
      "defaultValue": "ogden_demos",
      "label": "catalog",
      "name": "catalog",
      "options": {
       "widgetType": "text",
       "autoCreated": false,
       "validationRegex": null
      }
     }
    },
    "schema": {
     "currentValue": "bi_workshop",
     "nuid": "8371e0e4-b113-4334-b6f1-78a1aeb45832",
     "typedWidgetInfo": {
      "autoCreated": false,
      "defaultValue": "bi_workshop",
      "label": "schema",
      "name": "schema",
      "options": {
       "widgetDisplayType": "Text",
       "validationRegex": null
      },
      "parameterDataType": "String"
     },
     "widgetInfo": {
      "widgetType": "text",
      "defaultValue": "bi_workshop",
      "label": "schema",
      "name": "schema",
      "options": {
       "widgetType": "text",
       "autoCreated": false,
       "validationRegex": null
      }
     }
    },
    "table_out": {
     "currentValue": "asset_trend_silver",
     "nuid": "6ef1fcbf-c1ed-4ab8-8158-0c9bafe02d21",
     "typedWidgetInfo": {
      "autoCreated": false,
      "defaultValue": "asset_trend_silver",
      "label": "table_out",
      "name": "table_out",
      "options": {
       "widgetDisplayType": "Text",
       "validationRegex": null
      },
      "parameterDataType": "String"
     },
     "widgetInfo": {
      "widgetType": "text",
      "defaultValue": "asset_trend_silver",
      "label": "table_out",
      "name": "table_out",
      "options": {
       "widgetType": "text",
       "autoCreated": false,
       "validationRegex": null
      }
     }
    }
   }
  },
  "language_info": {
   "name": "sql"
  }
 },
 "nbformat": 4,
 "nbformat_minor": 0
}
