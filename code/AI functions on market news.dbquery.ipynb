{
 "cells": [
  {
   "cell_type": "code",
   "execution_count": 0,
   "metadata": {
    "application/vnd.databricks.v1+cell": {
     "cellMetadata": {
      "byteLimit": 10485760,
      "rowLimit": 1000
     },
     "inputWidgets": {},
     "nuid": "c3ffcd56-73f4-4839-b93c-f279f3b6177b",
     "showTitle": false,
     "tableResultSettingsMap": {},
     "title": ""
    }
   },
   "outputs": [],
   "source": [
    "SELECT\n",
    "  text_clean,\n",
    "  ai_analyze_sentiment(text_clean)                                                                  AS sentiment,\n",
    "  ai_classify(text_clean, array('investments', 'litigation', 'AI', 'other'))                        AS news_category,\n",
    "  ai_classify(text_clean, array('bearish', 'bullish', 'neutral', 'hold'))                           AS investment_category,\n",
    "  ai_extract(text_clean, array('location', 'organization'))                                         AS entities,\n",
    "  \n",
    "  ai_gen(\n",
    "        'You are a confident financial advisor. Provide very concise investment advice based on this news article: ' || text_clean\n",
    "        )                                                                                           AS investment_advice,\n",
    "\n",
    "  ai_mask(text_clean, array('person', 'corporation', 'entity', 'company', 'ticker'))                AS text_masked,\n",
    "  ai_summarize(text_clean, 20)                                                                      AS text_sum_20words,\n",
    "\n",
    "  ai_query('databricks-gpt-oss-20b', \n",
    "           CONCAT('Summarize this article:\\n', text_clean))                                         AS gpt_text_sum,\n",
    "\n",
    "  ai_query('databricks-meta-llama-3-3-70b-instruct', \n",
    "           CONCAT('Concisely list the corporate entities in this text:\\n', text_clean))             AS corporate_entities\n",
    "  \n",
    "FROM IDENTIFIER(:catalog || '.' || :schema || '.' || 'alpha_vantage_news')\n",
    "WHERE ticker = \"TSLA\"\n",
    "LIMIT 10\n",
    ";"
   ]
  }
 ],
 "metadata": {
  "application/vnd.databricks.v1+notebook": {
   "computePreferences": null,
   "dashboards": [],
   "environmentMetadata": null,
   "inputWidgetPreferences": null,
   "language": "sql",
   "notebookMetadata": {
    "pythonIndentUnit": 4,
    "sqlQueryOptions": {
     "applyAutoLimit": true,
     "catalog": "ogden_demos",
     "schema": "bi_workshop"
    }
   },
   "notebookName": "AI functions on market news.dbquery.ipynb",
   "widgets": {
    "catalog": {
     "currentValue": "ogden_demos",
     "nuid": "d530713c-efa9-4af0-b920-700cb4b8ec32",
     "typedWidgetInfo": {
      "autoCreated": true,
      "defaultValue": "",
      "label": null,
      "name": "catalog",
      "options": {
       "widgetDisplayType": "Text",
       "validationRegex": null
      },
      "parameterDataType": "String"
     },
     "widgetInfo": {
      "widgetType": "text",
      "defaultValue": "",
      "label": null,
      "name": "catalog",
      "options": {
       "widgetType": "text",
       "autoCreated": true,
       "validationRegex": null
      }
     }
    },
    "schema": {
     "currentValue": "bi_workshop",
     "nuid": "3be33501-aa36-4183-a6e8-63ad9951d3b1",
     "typedWidgetInfo": {
      "autoCreated": true,
      "defaultValue": "",
      "label": null,
      "name": "schema",
      "options": {
       "widgetDisplayType": "Text",
       "validationRegex": null
      },
      "parameterDataType": "String"
     },
     "widgetInfo": {
      "widgetType": "text",
      "defaultValue": "",
      "label": null,
      "name": "schema",
      "options": {
       "widgetType": "text",
       "autoCreated": true,
       "validationRegex": null
      }
     }
    }
   }
  },
  "language_info": {
   "name": "sql"
  }
 },
 "nbformat": 4,
 "nbformat_minor": 0
}
