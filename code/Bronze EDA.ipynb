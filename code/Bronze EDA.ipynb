{
 "cells": [
  {
   "cell_type": "markdown",
   "metadata": {
    "application/vnd.databricks.v1+cell": {
     "cellMetadata": {
      "byteLimit": 2048000,
      "rowLimit": 10000
     },
     "inputWidgets": {},
     "nuid": "9b217f9e-8937-43b9-b432-aedbc4b8d1a6",
     "showTitle": false,
     "tableResultSettingsMap": {},
     "title": ""
    }
   },
   "source": [
    "## basic EDA + saving output table"
   ]
  },
  {
   "cell_type": "markdown",
   "metadata": {
    "application/vnd.databricks.v1+cell": {
     "cellMetadata": {
      "byteLimit": 2048000,
      "rowLimit": 10000
     },
     "inputWidgets": {},
     "nuid": "237a97e4-c75b-4511-8c76-5c700dc05c83",
     "showTitle": false,
     "tableResultSettingsMap": {},
     "title": ""
    }
   },
   "source": [
    "#### modify the 'datapath' below to point to your Volume/csv:"
   ]
  },
  {
   "cell_type": "code",
   "execution_count": 0,
   "metadata": {
    "application/vnd.databricks.v1+cell": {
     "cellMetadata": {
      "byteLimit": 2048000,
      "rowLimit": 10000
     },
     "inputWidgets": {},
     "nuid": "fe882bc6-a740-418d-837b-16d48787467f",
     "showTitle": false,
     "tableResultSettingsMap": {},
     "title": ""
    }
   },
   "outputs": [],
   "source": [
    "# reading csv from a UC Volume\n",
    "\n",
    "datapath = f\"/Volumes/ogden_demos/bi_workshop/csv_uploaded/asset_trend_data.csv\"\n",
    "spark_df = spark.read.csv(datapath, header=True, inferSchema=True) \n",
    "display(spark_df)\n"
   ]
  },
  {
   "cell_type": "markdown",
   "metadata": {
    "application/vnd.databricks.v1+cell": {
     "cellMetadata": {
      "byteLimit": 2048000,
      "rowLimit": 10000
     },
     "inputWidgets": {},
     "nuid": "d92d02d6-ab73-4a46-b383-1b7dc1537273",
     "showTitle": false,
     "tableResultSettingsMap": {},
     "title": ""
    }
   },
   "source": [
    "#### ^^^ in the cell above, next to the 'Table' displayed, hit the + sign to add a 'Data Profile'"
   ]
  },
  {
   "cell_type": "markdown",
   "metadata": {
    "application/vnd.databricks.v1+cell": {
     "cellMetadata": {
      "byteLimit": 2048000,
      "rowLimit": 10000
     },
     "inputWidgets": {},
     "nuid": "c7e708e0-d0a2-4a22-988f-ed6800ed5237",
     "showTitle": false,
     "tableResultSettingsMap": {},
     "title": ""
    }
   },
   "source": [
    "#### profiling key metrics by the 'current flag' (using PySpark code):"
   ]
  },
  {
   "cell_type": "code",
   "execution_count": 0,
   "metadata": {
    "application/vnd.databricks.v1+cell": {
     "cellMetadata": {
      "byteLimit": 2048000,
      "rowLimit": 10000
     },
     "inputWidgets": {},
     "nuid": "c518da3e-cb86-42b9-93f3-ddd093817fc6",
     "showTitle": false,
     "tableResultSettingsMap": {},
     "title": ""
    }
   },
   "outputs": [],
   "source": [
    "# Profile the data by 'current flag' (0 vs 1), including Month metrics\n",
    "from pyspark.sql import functions as F\n",
    "\n",
    "# List of relevant numeric columns to profile (update as needed)\n",
    "numeric_cols = [\n",
    "    'Equity AUC', 'Cash AUC', 'Mutual Fund AUC', 'Other AUC', 'Total AUC'\n",
    "]\n",
    "\n",
    "# Aggregate statistics for each 'current flag' value, including Month\n",
    "profile_df = (\n",
    "    spark_df.groupBy('current flag')\n",
    "    .agg(\n",
    "        F.count('*').alias('count'),\n",
    "        F.countDistinct('Month').alias('unique_months'),\n",
    "        F.min('Month').alias('min_month'),\n",
    "        F.max('Month').alias('max_month'),\n",
    "        *[F.mean(c).alias(f'{c}_mean') for c in numeric_cols],\n",
    "        *[F.min(c).alias(f'{c}_min') for c in numeric_cols],\n",
    "        *[F.max(c).alias(f'{c}_max') for c in numeric_cols]\n",
    "    )\n",
    ")\n",
    "\n",
    "# Format all AUC metrics as currency with no decimals\n",
    "from pyspark.sql.functions import format_string\n",
    "auc_stat_cols = [\n",
    "    f'{c}_mean' for c in numeric_cols\n",
    "] + [\n",
    "    f'{c}_min' for c in numeric_cols\n",
    "] + [\n",
    "    f'{c}_max' for c in numeric_cols\n",
    "]\n",
    "\n",
    "for col_name in auc_stat_cols:\n",
    "    profile_df = profile_df.withColumn(\n",
    "        col_name,\n",
    "        format_string('$%s', F.format_number(F.col(col_name), 0))\n",
    "    )\n",
    "\n",
    "display(profile_df)"
   ]
  },
  {
   "cell_type": "markdown",
   "metadata": {
    "application/vnd.databricks.v1+cell": {
     "cellMetadata": {
      "byteLimit": 2048000,
      "rowLimit": 10000
     },
     "inputWidgets": {},
     "nuid": "3b0ee2b1-30e5-48f7-bfa2-e803df10bb23",
     "showTitle": false,
     "tableResultSettingsMap": {},
     "title": ""
    }
   },
   "source": [
    "#### performing some visual data exploration:"
   ]
  },
  {
   "cell_type": "code",
   "execution_count": 0,
   "metadata": {
    "application/vnd.databricks.v1+cell": {
     "cellMetadata": {
      "byteLimit": 2048000,
      "rowLimit": 10000
     },
     "inputWidgets": {},
     "nuid": "3f188f17-ea3e-4184-869a-e716726d85d1",
     "showTitle": false,
     "tableResultSettingsMap": {},
     "title": ""
    }
   },
   "outputs": [],
   "source": [
    "# Plot average Total AUC by Month\n",
    "from pyspark.sql import functions as F\n",
    "\n",
    "avg_auc_by_month = (\n",
    "    spark_df.groupBy(\"Month\")\n",
    "    .agg(F.avg(F.col(\"Total AUC\")).alias(\"avg_total_auc\"))\n",
    "    .orderBy(\"Month\")\n",
    ")\n",
    "\n",
    "# Use the + sign next to 'Table' below, to create an inline Visualization\n",
    "# (e.g., set 'Month' as key and 'avg_total_auc' as value)\n",
    "\n",
    "display(avg_auc_by_month)"
   ]
  },
  {
   "cell_type": "markdown",
   "metadata": {
    "application/vnd.databricks.v1+cell": {
     "cellMetadata": {
      "byteLimit": 2048000,
      "rowLimit": 10000
     },
     "inputWidgets": {},
     "nuid": "1f37846a-e861-4a23-8d29-4ca691a4a82e",
     "showTitle": false,
     "tableResultSettingsMap": {},
     "title": ""
    }
   },
   "source": [
    "#### ^^^ in the cell above, next to the 'Table' displayed, hit the + sign to add a 'Visualization'"
   ]
  },
  {
   "cell_type": "markdown",
   "metadata": {
    "application/vnd.databricks.v1+cell": {
     "cellMetadata": {
      "byteLimit": 2048000,
      "rowLimit": 10000
     },
     "inputWidgets": {},
     "nuid": "1bc52744-5a5f-42d0-a442-0cd57a6c3cfc",
     "showTitle": false,
     "tableResultSettingsMap": {},
     "title": ""
    }
   },
   "source": [
    "#### switching to SQL in the same python notebook..."
   ]
  },
  {
   "cell_type": "code",
   "execution_count": 0,
   "metadata": {
    "application/vnd.databricks.v1+cell": {
     "cellMetadata": {
      "byteLimit": 2048000,
      "rowLimit": 10000
     },
     "inputWidgets": {},
     "nuid": "9ae0c8a9-de90-47c1-8c14-f08a25a33828",
     "showTitle": false,
     "tableResultSettingsMap": {},
     "title": ""
    }
   },
   "outputs": [],
   "source": [
    "# Register the DataFrame as a temp view for SQL queries\n",
    "\n",
    "spark_df.createOrReplaceTempView(\"asset_trend_temp_view\")"
   ]
  },
  {
   "cell_type": "markdown",
   "metadata": {
    "application/vnd.databricks.v1+cell": {
     "cellMetadata": {
      "byteLimit": 2048000,
      "rowLimit": 10000
     },
     "inputWidgets": {},
     "nuid": "f9137e1e-a414-475f-b719-e2f168cebe0c",
     "showTitle": false,
     "tableResultSettingsMap": {},
     "title": ""
    }
   },
   "source": [
    "#### notice the sql magic commmand, to switch this cell to SQL:"
   ]
  },
  {
   "cell_type": "code",
   "execution_count": 0,
   "metadata": {
    "application/vnd.databricks.v1+cell": {
     "cellMetadata": {
      "byteLimit": 2048000,
      "implicitDf": true,
      "rowLimit": 10000
     },
     "inputWidgets": {},
     "nuid": "de534f5a-e88a-4039-b4d3-94d5461d97b7",
     "showTitle": false,
     "tableResultSettingsMap": {},
     "title": ""
    }
   },
   "outputs": [],
   "source": [
    "%sql\n",
    "\n",
    "-- sum all AUC metrics except 'Total AUC'\n",
    "\n",
    "SELECT 'equity' AS asset_type, SUM(`Equity AUC`) AS auc FROM asset_trend_temp_view\n",
    "UNION ALL\n",
    "SELECT 'cash' AS asset_type, SUM(`Cash AUC`) AS auc FROM asset_trend_temp_view\n",
    "UNION ALL\n",
    "SELECT 'mutualfund' AS asset_type, SUM(`Mutual Fund AUC`) AS auc FROM asset_trend_temp_view\n",
    "UNION ALL\n",
    "SELECT 'other' AS asset_type, SUM(`Other AUC`) AS auc FROM asset_trend_temp_view\n",
    ";"
   ]
  },
  {
   "cell_type": "markdown",
   "metadata": {
    "application/vnd.databricks.v1+cell": {
     "cellMetadata": {
      "byteLimit": 2048000,
      "rowLimit": 10000
     },
     "inputWidgets": {},
     "nuid": "ae61dd56-41ef-403c-bc61-58425e2d73aa",
     "showTitle": false,
     "tableResultSettingsMap": {},
     "title": ""
    }
   },
   "source": [
    "#### ^^^ in the cell above, next to the 'Table' displayed, hit the + sign to add a 'Visualization' (e.g. a pie chart)"
   ]
  },
  {
   "cell_type": "markdown",
   "metadata": {
    "application/vnd.databricks.v1+cell": {
     "cellMetadata": {
      "byteLimit": 2048000,
      "rowLimit": 10000
     },
     "inputWidgets": {},
     "nuid": "9e5640c2-0c19-4c2c-b192-39de41fb06a8",
     "showTitle": false,
     "tableResultSettingsMap": {},
     "title": ""
    }
   },
   "source": [
    "#### now to save our Bronze data to Unity Catalog...\n",
    ">> #### (you will need to modify below to point to your catalog.schema)\n",
    ">> #### (and if multiple users are doing this, you will need to create unique table names or write to different schemas)\n",
    ">> #### using value characters in columns names (i.e. no blanks)\n",
    ">> #### and creating some new metrics to add to the table:"
   ]
  },
  {
   "cell_type": "markdown",
   "metadata": {
    "application/vnd.databricks.v1+cell": {
     "cellMetadata": {
      "byteLimit": 2048000,
      "rowLimit": 10000
     },
     "inputWidgets": {},
     "nuid": "e2c62a3b-80e1-40dd-adba-7835bc0384ba",
     "showTitle": false,
     "tableResultSettingsMap": {},
     "title": ""
    }
   },
   "source": [
    "#### modify/provide the values (widgets above) for catalog, schema, and table name:"
   ]
  },
  {
   "cell_type": "code",
   "execution_count": 0,
   "metadata": {
    "application/vnd.databricks.v1+cell": {
     "cellMetadata": {
      "byteLimit": 2048000,
      "implicitDf": true,
      "rowLimit": 10000
     },
     "inputWidgets": {},
     "nuid": "a08a8961-2b79-4997-a914-67a24838ebe5",
     "showTitle": false,
     "tableResultSettingsMap": {},
     "title": ""
    }
   },
   "outputs": [],
   "source": [
    "%sql\n",
    "\n",
    "CREATE OR REPLACE TABLE IDENTIFIER(:catalog || '.' || :schema || '.' || :table) AS\n",
    "-- above line equivalent to catalog.schema.table designation\n",
    "-- these are SQL variables that can be desingated in the notebook widgets above\n",
    "\n",
    "SELECT  Month                                   AS Month,\n",
    "        `Current Flag`                          AS Current_Flag,\n",
    "        `Account Service Group`                 AS Account_Service_Group,\n",
    "        `Account Service Type`                  AS Account_Service_Type,\n",
    "        `Account Tax Category`                  AS Account_Tax_Category,\n",
    "        `Branch Market`                         AS Branch_Market,\n",
    "        `Branch Region`                         AS Branch_Region,\n",
    "        `Total Accounts`                        AS Total_Accounts,\n",
    "        `Total AUC`                             AS Total_AUC,\n",
    "        `Equity AUC`                            AS Equity_AUC,\n",
    "        `Cash AUC`                              AS Cash_AUC,\n",
    "        `Mutual Fund AUC`                       AS MutualFund_AUC,\n",
    "        `Other AUC`                             AS Other_AUC,\n",
    "        -- new metrics:\n",
    "        `Total AUC` / `Total Accounts`          AS Total_AUC_per_acct,\n",
    "        `Equity AUC` / `Total Accounts`         AS Equity_AUC_per_acct,\n",
    "        `Cash AUC` / `Total Accounts`           AS Cash_AUC_per_acct,\n",
    "        `Mutual Fund AUC` / `Total Accounts`    AS MutualFund_AUC_per_acct,\n",
    "        `Other AUC` / `Total Accounts`          AS Other_AUC_per_acct\n",
    "FROM asset_trend_temp_view;"
   ]
  },
  {
   "cell_type": "markdown",
   "metadata": {
    "application/vnd.databricks.v1+cell": {
     "cellMetadata": {
      "byteLimit": 2048000,
      "rowLimit": 10000
     },
     "inputWidgets": {},
     "nuid": "9e915027-363d-4ae8-a597-b1b8ef44d69e",
     "showTitle": false,
     "tableResultSettingsMap": {},
     "title": ""
    }
   },
   "source": [
    "## Now we head to the Catalog explorer to take a look at our new table..."
   ]
  }
 ],
 "metadata": {
  "application/vnd.databricks.v1+notebook": {
   "computePreferences": {
    "hardware": {
     "accelerator": null,
     "gpuPoolId": null,
     "memory": null
    }
   },
   "dashboards": [],
   "environmentMetadata": {
    "base_environment": "",
    "environment_version": "3"
   },
   "inputWidgetPreferences": null,
   "language": "python",
   "notebookMetadata": {
    "mostRecentlyExecutedCommandWithImplicitDF": {
     "commandId": 5325136369447077,
     "dataframes": [
      "_sqldf"
     ]
    },
    "pythonIndentUnit": 4
   },
   "notebookName": "Bronze EDA",
   "widgets": {
    "catalog": {
     "currentValue": "ogden_demos",
     "nuid": "0a948046-79dc-4598-b2f4-2e549f794ddb",
     "typedWidgetInfo": {
      "autoCreated": true,
      "defaultValue": "",
      "label": null,
      "name": "catalog",
      "options": {
       "widgetDisplayType": "Text",
       "validationRegex": null
      },
      "parameterDataType": "String"
     },
     "widgetInfo": {
      "widgetType": "text",
      "defaultValue": "",
      "label": null,
      "name": "catalog",
      "options": {
       "widgetType": "text",
       "autoCreated": true,
       "validationRegex": null
      }
     }
    },
    "schema": {
     "currentValue": "bi_workshop",
     "nuid": "cd1b13f9-4909-48bb-b612-a6aa31dc4430",
     "typedWidgetInfo": {
      "autoCreated": true,
      "defaultValue": "",
      "label": null,
      "name": "schema",
      "options": {
       "widgetDisplayType": "Text",
       "validationRegex": null
      },
      "parameterDataType": "String"
     },
     "widgetInfo": {
      "widgetType": "text",
      "defaultValue": "",
      "label": null,
      "name": "schema",
      "options": {
       "widgetType": "text",
       "autoCreated": true,
       "validationRegex": null
      }
     }
    },
    "table": {
     "currentValue": "asset_trend_bronze",
     "nuid": "a7838ae6-92aa-49a3-8cbf-6418de798747",
     "typedWidgetInfo": {
      "autoCreated": true,
      "defaultValue": "",
      "label": null,
      "name": "table",
      "options": {
       "widgetDisplayType": "Text",
       "validationRegex": null
      },
      "parameterDataType": "String"
     },
     "widgetInfo": {
      "widgetType": "text",
      "defaultValue": "",
      "label": null,
      "name": "table",
      "options": {
       "widgetType": "text",
       "autoCreated": true,
       "validationRegex": null
      }
     }
    }
   }
  },
  "language_info": {
   "name": "python"
  }
 },
 "nbformat": 4,
 "nbformat_minor": 0
}