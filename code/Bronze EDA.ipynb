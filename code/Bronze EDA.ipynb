{
 "cells": [
  {
   "cell_type": "markdown",
   "metadata": {
    "application/vnd.databricks.v1+cell": {
     "cellMetadata": {
      "byteLimit": 2048000,
      "rowLimit": 10000
     },
     "inputWidgets": {},
     "nuid": "9b217f9e-8937-43b9-b432-aedbc4b8d1a6",
     "showTitle": false,
     "tableResultSettingsMap": {},
     "title": ""
    }
   },
   "source": [
    "## basic EDA + saving output table"
   ]
  },
  {
   "cell_type": "markdown",
   "metadata": {
    "application/vnd.databricks.v1+cell": {
     "cellMetadata": {
      "byteLimit": 2048000,
      "rowLimit": 10000
     },
     "inputWidgets": {},
     "nuid": "237a97e4-c75b-4511-8c76-5c700dc05c83",
     "showTitle": false,
     "tableResultSettingsMap": {},
     "title": ""
    }
   },
   "source": [
    "#### modify the 'datapath' below to point to your Volume/csv:"
   ]
  },
  {
   "cell_type": "code",
   "execution_count": 0,
   "metadata": {
    "application/vnd.databricks.v1+cell": {
     "cellMetadata": {
      "byteLimit": 2048000,
      "rowLimit": 10000
     },
     "inputWidgets": {},
     "nuid": "fe882bc6-a740-418d-837b-16d48787467f",
     "showTitle": false,
     "tableResultSettingsMap": {},
     "title": ""
    }
   },
   "outputs": [],
   "source": [
    "# reading csv from a UC Volume\n",
    "\n",
    "datapath = f\"/Volumes/ogden_demos/bi_workshop/files_uploaded/asset_trend_data.csv\"\n",
    "spark_df = spark.read.csv(datapath, header=True, inferSchema=True) \n",
    "display(spark_df)\n"
   ]
  },
  {
   "cell_type": "markdown",
   "metadata": {
    "application/vnd.databricks.v1+cell": {
     "cellMetadata": {
      "byteLimit": 2048000,
      "rowLimit": 10000
     },
     "inputWidgets": {},
     "nuid": "d92d02d6-ab73-4a46-b383-1b7dc1537273",
     "showTitle": false,
     "tableResultSettingsMap": {},
     "title": ""
    }
   },
   "source": [
    "#### ^^^ in the cell above, next to the 'Table' displayed, hit the + sign to add a 'Data Profile'"
   ]
  },
  {
   "cell_type": "markdown",
   "metadata": {
    "application/vnd.databricks.v1+cell": {
     "cellMetadata": {
      "byteLimit": 2048000,
      "rowLimit": 10000
     },
     "inputWidgets": {},
     "nuid": "c7e708e0-d0a2-4a22-988f-ed6800ed5237",
     "showTitle": false,
     "tableResultSettingsMap": {},
     "title": ""
    }
   },
   "source": [
    "#### profiling key metrics by the 'current flag' (using PySpark code):"
   ]
  },
  {
   "cell_type": "code",
   "execution_count": 0,
   "metadata": {
    "application/vnd.databricks.v1+cell": {
     "cellMetadata": {
      "byteLimit": 2048000,
      "rowLimit": 10000
     },
     "inputWidgets": {},
     "nuid": "c518da3e-cb86-42b9-93f3-ddd093817fc6",
     "showTitle": false,
     "tableResultSettingsMap": {},
     "title": ""
    }
   },
   "outputs": [],
   "source": [
    "# Profile the data by 'current flag' (0 vs 1), including Month metrics\n",
    "from pyspark.sql import functions as F\n",
    "\n",
    "# List of relevant numeric columns to profile (update as needed)\n",
    "numeric_cols = [\n",
    "    'Equity AUC', 'Cash AUC', 'Mutual Fund AUC', 'Other AUC', 'Total AUC'\n",
    "]\n",
    "\n",
    "# Aggregate statistics for each 'current flag' value, including Month\n",
    "profile_df = (\n",
    "    spark_df.groupBy('current flag')\n",
    "    .agg(\n",
    "        F.count('*').alias('count'),\n",
    "        F.countDistinct('Month').alias('unique_months'),\n",
    "        F.min('Month').alias('min_month'),\n",
    "        F.max('Month').alias('max_month'),\n",
    "        *[F.mean(c).alias(f'{c}_mean') for c in numeric_cols],\n",
    "        *[F.min(c).alias(f'{c}_min') for c in numeric_cols],\n",
    "        *[F.max(c).alias(f'{c}_max') for c in numeric_cols]\n",
    "    )\n",
    ")\n",
    "\n",
    "# Format all AUC metrics as currency with no decimals\n",
    "from pyspark.sql.functions import format_string\n",
    "auc_stat_cols = [\n",
    "    f'{c}_mean' for c in numeric_cols\n",
    "] + [\n",
    "    f'{c}_min' for c in numeric_cols\n",
    "] + [\n",
    "    f'{c}_max' for c in numeric_cols\n",
    "]\n",
    "\n",
    "for col_name in auc_stat_cols:\n",
    "    profile_df = profile_df.withColumn(\n",
    "        col_name,\n",
    "        format_string('$%s', F.format_number(F.col(col_name), 0))\n",
    "    )\n",
    "\n",
    "display(profile_df)"
   ]
  },
  {
   "cell_type": "markdown",
   "metadata": {
    "application/vnd.databricks.v1+cell": {
     "cellMetadata": {
      "byteLimit": 2048000,
      "rowLimit": 10000
     },
     "inputWidgets": {},
     "nuid": "3b0ee2b1-30e5-48f7-bfa2-e803df10bb23",
     "showTitle": false,
     "tableResultSettingsMap": {},
     "title": ""
    }
   },
   "source": [
    "#### performing some visual data exploration:"
   ]
  },
  {
   "cell_type": "code",
   "execution_count": 0,
   "metadata": {
    "application/vnd.databricks.v1+cell": {
     "cellMetadata": {
      "byteLimit": 2048000,
      "rowLimit": 10000
     },
     "inputWidgets": {},
     "nuid": "3f188f17-ea3e-4184-869a-e716726d85d1",
     "showTitle": false,
     "tableResultSettingsMap": {},
     "title": ""
    }
   },
   "outputs": [
    {
     "output_type": "display_data",
     "data": {
      "text/plain": [
       "Databricks visualization. Run in Databricks to view."
      ]
     },
     "metadata": {
      "application/vnd.databricks.v1.subcommand+json": {
       "baseErrorDetails": null,
       "bindings": {},
       "collapsed": false,
       "command": "%python\n__backend_agg_display_orig = display\n__backend_agg_dfs = []\ndef __backend_agg_display_new(df):\n    __backend_agg_df_modules = [\"pandas.core.frame\", \"databricks.koalas.frame\", \"pyspark.sql.dataframe\", \"pyspark.pandas.frame\", \"pyspark.sql.connect.dataframe\"]\n    if (type(df).__module__ in __backend_agg_df_modules and type(df).__name__ == 'DataFrame') or isinstance(df, list):\n        __backend_agg_dfs.append(df)\n\ndisplay = __backend_agg_display_new\n\ndef __backend_agg_user_code_fn():\n    import base64\n    exec(base64.standard_b64decode(\"IyBQbG90IGF2ZXJhZ2UgVG90YWwgQVVDIGJ5IE1vbnRoCmZyb20gcHlzcGFyay5zcWwgaW1wb3J0IGZ1bmN0aW9ucyBhcyBGCgphdmdfYXVjX2J5X21vbnRoID0gKAogICAgc3BhcmtfZGYuZ3JvdXBCeSgiTW9udGgiKQogICAgLmFnZyhGLmF2ZyhGLmNvbCgiVG90YWwgQVVDIikpLmFsaWFzKCJhdmdfdG90YWxfYXVjIikpCiAgICAub3JkZXJCeSgiTW9udGgiKQopCgojIFVzZSB0aGUgKyBzaWduIG5leHQgdG8gJ1RhYmxlJyBiZWxvdywgdG8gY3JlYXRlIGFuIGlubGluZSBWaXN1YWxpemF0aW9uCiMgKGUuZy4sIHNldCAnTW9udGgnIGFzIGtleSBhbmQgJ2F2Z190b3RhbF9hdWMnIGFzIHZhbHVlKQoKZGlzcGxheShhdmdfYXVjX2J5X21vbnRoKQ==\").decode())\n\ntry:\n    # run user code\n    __backend_agg_user_code_fn()\n\n    #reset display function\n    display = __backend_agg_display_orig\n\n    if len(__backend_agg_dfs) > 0:\n        # create a temp view\n        if type(__backend_agg_dfs[0]).__module__ == \"databricks.koalas.frame\":\n            # koalas dataframe\n            __backend_agg_dfs[0].to_spark().createOrReplaceTempView(\"DatabricksView3c0e0ec\")\n        elif type(__backend_agg_dfs[0]).__module__ == \"pandas.core.frame\" or isinstance(__backend_agg_dfs[0], list):\n            # pandas dataframe\n            spark.createDataFrame(__backend_agg_dfs[0]).createOrReplaceTempView(\"DatabricksView3c0e0ec\")\n        else:\n            __backend_agg_dfs[0].createOrReplaceTempView(\"DatabricksView3c0e0ec\")\n        #run backend agg\n        display(spark.sql(\"\"\"WITH q AS (select * from DatabricksView3c0e0ec) SELECT `Month`,SUM(`avg_total_auc`) `column_e0de4f0b27` FROM q GROUP BY `Month`\"\"\"))\n    else:\n        displayHTML(\"dataframe no longer exists. If you're using dataframe.display(), use display(dataframe) instead.\")\n\n\nfinally:\n    spark.sql(\"drop view if exists DatabricksView3c0e0ec\")\n    display = __backend_agg_display_orig\n    del __backend_agg_display_new\n    del __backend_agg_display_orig\n    del __backend_agg_dfs\n    del __backend_agg_user_code_fn\n\n",
       "commandTitle": "Visualization 1",
       "commandType": "auto",
       "commandVersion": 0,
       "commentThread": [],
       "commentsVisible": false,
       "contentSha256Hex": null,
       "customPlotOptions": {
        "redashChart": [
         {
          "key": "type",
          "value": "CHART"
         },
         {
          "key": "options",
          "value": {
           "alignYAxesAtZero": false,
           "coefficient": 1,
           "columnConfigurationMap": {
            "x": {
             "column": "Month",
             "id": "column_e0de4f0b26"
            },
            "y": [
             {
              "column": "avg_total_auc",
              "id": "column_e0de4f0b27",
              "transform": "SUM"
             }
            ]
           },
           "dateTimeFormat": "DD/MM/YYYY HH:mm",
           "direction": {
            "type": "counterclockwise"
           },
           "error_y": {
            "type": "data",
            "visible": true
           },
           "globalSeriesType": "line",
           "isAggregationOn": true,
           "legend": {
            "traceorder": "normal"
           },
           "missingValuesAsZero": true,
           "numberFormat": "0,0.[00000]",
           "percentFormat": "0[.]00%",
           "series": {
            "error_y": {
             "type": "data",
             "visible": true
            },
            "stacking": null
           },
           "seriesOptions": {
            "column_e0de4f0b27": {
             "name": "avg_total_auc",
             "yAxis": 0
            }
           },
           "showDataLabels": false,
           "sizemode": "diameter",
           "sortX": true,
           "sortY": true,
           "swappedAxes": false,
           "textFormat": "",
           "useAggregationsUi": true,
           "valuesOptions": {},
           "version": 2,
           "xAxis": {
            "labels": {
             "enabled": true
            },
            "type": "-"
           },
           "yAxis": [
            {
             "rangeMin": 0,
             "type": "-"
            },
            {
             "opposite": true,
             "type": "-"
            }
           ]
          }
         }
        ]
       },
       "datasetPreviewNameToCmdIdMap": {},
       "diffDeletes": [],
       "diffInserts": [],
       "displayType": "redashChart",
       "error": null,
       "errorDetails": null,
       "errorSummary": null,
       "errorTraceType": null,
       "finishTime": 0,
       "globalVars": {},
       "guid": "",
       "height": "auto",
       "hideCommandCode": false,
       "hideCommandResult": false,
       "iPythonMetadata": null,
       "inputWidgets": {},
       "isLockedInExamMode": false,
       "latestAssumeRoleInfo": null,
       "latestUser": "a user",
       "latestUserId": null,
       "listResultMetadata": null,
       "metadata": {
        "byteLimit": 2048000,
        "rowLimit": 10000
       },
       "nuid": "7a7dbc41-42d3-4cf1-9659-b9527de72bda",
       "origId": 0,
       "parentHierarchy": [],
       "pivotAggregation": null,
       "pivotColumns": null,
       "position": 4.0,
       "resultDbfsErrorMessage": null,
       "resultDbfsStatus": "INLINED_IN_TREE",
       "results": null,
       "showCommandTitle": false,
       "startTime": 0,
       "state": "input",
       "streamStates": {},
       "subcommandOptions": {
        "queryPlan": {
         "groups": [
          {
           "column": "Month",
           "type": "column"
          }
         ],
         "selects": [
          {
           "column": "Month",
           "type": "column"
          },
          {
           "alias": "column_e0de4f0b27",
           "args": [
            {
             "column": "avg_total_auc",
             "type": "column"
            }
           ],
           "function": "SUM",
           "type": "function"
          }
         ]
        }
       },
       "submitTime": 0,
       "subtype": "tableResultSubCmd.visualization",
       "tableResultIndex": 0,
       "tableResultSettingsMap": {},
       "useConsistentColors": false,
       "version": "CommandV1",
       "width": "auto",
       "workflows": null,
       "xColumns": null,
       "yColumns": null
      }
     },
     "output_type": "display_data"
    }
   ],
   "source": [
    "# Plot average Total AUC by Month\n",
    "from pyspark.sql import functions as F\n",
    "\n",
    "avg_auc_by_month = (\n",
    "    spark_df.groupBy(\"Month\")\n",
    "    .agg(F.avg(F.col(\"Total AUC\")).alias(\"avg_total_auc\"))\n",
    "    .orderBy(\"Month\")\n",
    ")\n",
    "\n",
    "# Use the + sign next to 'Table' below, to create an inline Visualization\n",
    "# (e.g., set 'Month' as key and 'avg_total_auc' as value)\n",
    "\n",
    "display(avg_auc_by_month)"
   ]
  },
  {
   "cell_type": "markdown",
   "metadata": {
    "application/vnd.databricks.v1+cell": {
     "cellMetadata": {
      "byteLimit": 2048000,
      "rowLimit": 10000
     },
     "inputWidgets": {},
     "nuid": "1f37846a-e861-4a23-8d29-4ca691a4a82e",
     "showTitle": false,
     "tableResultSettingsMap": {},
     "title": ""
    }
   },
   "source": [
    "#### ^^^ in the cell above, next to the 'Table' displayed, hit the + sign to add a 'Visualization'"
   ]
  },
  {
   "cell_type": "markdown",
   "metadata": {
    "application/vnd.databricks.v1+cell": {
     "cellMetadata": {
      "byteLimit": 2048000,
      "rowLimit": 10000
     },
     "inputWidgets": {},
     "nuid": "1bc52744-5a5f-42d0-a442-0cd57a6c3cfc",
     "showTitle": false,
     "tableResultSettingsMap": {},
     "title": ""
    }
   },
   "source": [
    "#### switching to SQL in the same python notebook..."
   ]
  },
  {
   "cell_type": "code",
   "execution_count": 0,
   "metadata": {
    "application/vnd.databricks.v1+cell": {
     "cellMetadata": {
      "byteLimit": 2048000,
      "rowLimit": 10000
     },
     "inputWidgets": {},
     "nuid": "9ae0c8a9-de90-47c1-8c14-f08a25a33828",
     "showTitle": false,
     "tableResultSettingsMap": {},
     "title": ""
    }
   },
   "outputs": [],
   "source": [
    "# Register the DataFrame as a temp view for SQL queries\n",
    "\n",
    "spark_df.createOrReplaceTempView(\"asset_trend_temp_view\")"
   ]
  },
  {
   "cell_type": "markdown",
   "metadata": {
    "application/vnd.databricks.v1+cell": {
     "cellMetadata": {
      "byteLimit": 2048000,
      "rowLimit": 10000
     },
     "inputWidgets": {},
     "nuid": "f9137e1e-a414-475f-b719-e2f168cebe0c",
     "showTitle": false,
     "tableResultSettingsMap": {},
     "title": ""
    }
   },
   "source": [
    "#### notice the sql magic commmand, to switch this cell to SQL:"
   ]
  },
  {
   "cell_type": "code",
   "execution_count": 0,
   "metadata": {
    "application/vnd.databricks.v1+cell": {
     "cellMetadata": {
      "byteLimit": 2048000,
      "implicitDf": true,
      "rowLimit": 10000
     },
     "inputWidgets": {},
     "nuid": "de534f5a-e88a-4039-b4d3-94d5461d97b7",
     "showTitle": false,
     "tableResultSettingsMap": {},
     "title": ""
    }
   },
   "outputs": [
    {
     "output_type": "display_data",
     "data": {
      "text/plain": [
       "Databricks visualization. Run in Databricks to view."
      ]
     },
     "metadata": {
      "application/vnd.databricks.v1.subcommand+json": {
       "baseErrorDetails": null,
       "bindings": {},
       "collapsed": false,
       "command": "%sql WITH q AS (SELECT 'equity' AS asset_type, SUM(`Equity AUC`) AS auc FROM asset_trend_temp_view\nUNION ALL\nSELECT 'cash' AS asset_type, SUM(`Cash AUC`) AS auc FROM asset_trend_temp_view\nUNION ALL\nSELECT 'mutualfund' AS asset_type, SUM(`Mutual Fund AUC`) AS auc FROM asset_trend_temp_view\nUNION ALL\nSELECT 'other' AS asset_type, SUM(`Other AUC`) AS auc FROM asset_trend_temp_view) SELECT `asset_type`,SUM(`auc`) `column_e0de4f0b51` FROM q GROUP BY `asset_type`",
       "commandTitle": "Visualization 1",
       "commandType": "auto",
       "commandVersion": 0,
       "commentThread": [],
       "commentsVisible": false,
       "contentSha256Hex": null,
       "customPlotOptions": {
        "redashChart": [
         {
          "key": "type",
          "value": "CHART"
         },
         {
          "key": "options",
          "value": {
           "alignYAxesAtZero": true,
           "coefficient": 1,
           "columnConfigurationMap": {
            "x": {
             "column": "asset_type",
             "id": "column_e0de4f0b50"
            },
            "y": [
             {
              "column": "auc",
              "id": "column_e0de4f0b51",
              "transform": "SUM"
             }
            ]
           },
           "dateTimeFormat": "DD/MM/YYYY HH:mm",
           "direction": {
            "type": "counterclockwise"
           },
           "error_y": {
            "type": "data",
            "visible": true
           },
           "globalSeriesType": "pie",
           "legend": {
            "traceorder": "normal"
           },
           "missingValuesAsZero": true,
           "numberFormat": "0,0.[00000]",
           "percentFormat": "0[.]00%",
           "series": {
            "error_y": {
             "type": "data",
             "visible": true
            },
            "stacking": null
           },
           "seriesOptions": {
            "column_e0de4f0b51": {
             "name": "auc",
             "type": "pie",
             "yAxis": 0
            }
           },
           "showDataLabels": true,
           "sizemode": "diameter",
           "sortX": true,
           "sortY": true,
           "swappedAxes": false,
           "textFormat": "",
           "useAggregationsUi": true,
           "valuesOptions": {},
           "version": 2,
           "xAxis": {
            "labels": {
             "enabled": true
            },
            "type": "-"
           },
           "yAxis": [
            {
             "type": "-"
            },
            {
             "opposite": true,
             "type": "-"
            }
           ]
          }
         }
        ]
       },
       "datasetPreviewNameToCmdIdMap": {},
       "diffDeletes": [],
       "diffInserts": [],
       "displayType": "redashChart",
       "error": null,
       "errorDetails": null,
       "errorSummary": null,
       "errorTraceType": null,
       "finishTime": 0,
       "globalVars": {},
       "guid": "",
       "height": "auto",
       "hideCommandCode": false,
       "hideCommandResult": false,
       "iPythonMetadata": null,
       "inputWidgets": {},
       "isLockedInExamMode": false,
       "latestAssumeRoleInfo": null,
       "latestUser": "a user",
       "latestUserId": null,
       "listResultMetadata": null,
       "metadata": {
        "byteLimit": 2048000,
        "implicitDf": true,
        "rowLimit": 10000
       },
       "nuid": "34dd0ec7-a42f-40fc-b817-f8d05ba3ccd3",
       "origId": 0,
       "parentHierarchy": [],
       "pivotAggregation": null,
       "pivotColumns": null,
       "position": 7.0,
       "resultDbfsErrorMessage": null,
       "resultDbfsStatus": "INLINED_IN_TREE",
       "results": null,
       "showCommandTitle": false,
       "startTime": 0,
       "state": "input",
       "streamStates": {},
       "subcommandOptions": {
        "queryPlan": {
         "groups": [
          {
           "column": "asset_type",
           "type": "column"
          }
         ],
         "selects": [
          {
           "column": "asset_type",
           "type": "column"
          },
          {
           "alias": "column_e0de4f0b51",
           "args": [
            {
             "column": "auc",
             "type": "column"
            }
           ],
           "function": "SUM",
           "type": "function"
          }
         ]
        }
       },
       "submitTime": 0,
       "subtype": "tableResultSubCmd.visualization",
       "tableResultIndex": 0,
       "tableResultSettingsMap": {},
       "useConsistentColors": false,
       "version": "CommandV1",
       "width": "auto",
       "workflows": null,
       "xColumns": null,
       "yColumns": null
      }
     },
     "output_type": "display_data"
    }
   ],
   "source": [
    "%sql\n",
    "\n",
    "-- sum all AUC metrics except 'Total AUC'\n",
    "\n",
    "SELECT 'equity' AS asset_type, SUM(`Equity AUC`) AS auc FROM asset_trend_temp_view\n",
    "UNION ALL\n",
    "SELECT 'cash' AS asset_type, SUM(`Cash AUC`) AS auc FROM asset_trend_temp_view\n",
    "UNION ALL\n",
    "SELECT 'mutualfund' AS asset_type, SUM(`Mutual Fund AUC`) AS auc FROM asset_trend_temp_view\n",
    "UNION ALL\n",
    "SELECT 'other' AS asset_type, SUM(`Other AUC`) AS auc FROM asset_trend_temp_view\n",
    ";"
   ]
  },
  {
   "cell_type": "markdown",
   "metadata": {
    "application/vnd.databricks.v1+cell": {
     "cellMetadata": {
      "byteLimit": 2048000,
      "rowLimit": 10000
     },
     "inputWidgets": {},
     "nuid": "ae61dd56-41ef-403c-bc61-58425e2d73aa",
     "showTitle": false,
     "tableResultSettingsMap": {},
     "title": ""
    }
   },
   "source": [
    "#### ^^^ in the cell above, next to the 'Table' displayed, hit the + sign to add a 'Visualization' (e.g. a pie chart)"
   ]
  },
  {
   "cell_type": "markdown",
   "metadata": {
    "application/vnd.databricks.v1+cell": {
     "cellMetadata": {
      "byteLimit": 2048000,
      "rowLimit": 10000
     },
     "inputWidgets": {},
     "nuid": "9e5640c2-0c19-4c2c-b192-39de41fb06a8",
     "showTitle": false,
     "tableResultSettingsMap": {},
     "title": ""
    }
   },
   "source": [
    "#### now to save our Bronze data to Unity Catalog...\n",
    ">> #### (you will need to modify below to point to your catalog.schema)\n",
    ">> #### (and if multiple users are doing this, you will need to create unique table names or write to different schemas)\n",
    ">> #### using value characters in columns names (i.e. no blanks)\n",
    ">> #### and creating some new metrics to add to the table:"
   ]
  },
  {
   "cell_type": "markdown",
   "metadata": {
    "application/vnd.databricks.v1+cell": {
     "cellMetadata": {
      "byteLimit": 2048000,
      "rowLimit": 10000
     },
     "inputWidgets": {},
     "nuid": "e2c62a3b-80e1-40dd-adba-7835bc0384ba",
     "showTitle": false,
     "tableResultSettingsMap": {},
     "title": ""
    }
   },
   "source": [
    "#### modify/provide the values (widgets above) for catalog, schema, and table name:"
   ]
  },
  {
   "cell_type": "code",
   "execution_count": 0,
   "metadata": {
    "application/vnd.databricks.v1+cell": {
     "cellMetadata": {
      "byteLimit": 2048000,
      "implicitDf": true,
      "rowLimit": 10000
     },
     "inputWidgets": {},
     "nuid": "a08a8961-2b79-4997-a914-67a24838ebe5",
     "showTitle": false,
     "tableResultSettingsMap": {},
     "title": ""
    }
   },
   "outputs": [],
   "source": [
    "%sql\n",
    "\n",
    "CREATE OR REPLACE TABLE IDENTIFIER(:catalog || '.' || :schema || '.' || :table) AS\n",
    "-- above line equivalent to catalog.schema.table designation\n",
    "-- these are SQL variables that can be desingated in the notebook widgets above\n",
    "\n",
    "SELECT  Month                                   AS Month,\n",
    "        `Current Flag`                          AS Current_Flag,\n",
    "        `Account Service Group`                 AS Account_Service_Group,\n",
    "        `Account Service Type`                  AS Account_Service_Type,\n",
    "        `Account Tax Category`                  AS Account_Tax_Category,\n",
    "        `Branch Market`                         AS Branch_Market,\n",
    "        `Branch Region`                         AS Branch_Region,\n",
    "        `Total Accounts`                        AS Total_Accounts,\n",
    "        `Total AUC`                             AS Total_AUC,\n",
    "        `Equity AUC`                            AS Equity_AUC,\n",
    "        `Cash AUC`                              AS Cash_AUC,\n",
    "        `Mutual Fund AUC`                       AS MutualFund_AUC,\n",
    "        `Other AUC`                             AS Other_AUC,\n",
    "        -- new metrics:\n",
    "        `Total AUC` / `Total Accounts`          AS Total_AUC_per_acct,\n",
    "        `Equity AUC` / `Total Accounts`         AS Equity_AUC_per_acct,\n",
    "        `Cash AUC` / `Total Accounts`           AS Cash_AUC_per_acct,\n",
    "        `Mutual Fund AUC` / `Total Accounts`    AS MutualFund_AUC_per_acct,\n",
    "        `Other AUC` / `Total Accounts`          AS Other_AUC_per_acct\n",
    "FROM asset_trend_temp_view;"
   ]
  },
  {
   "cell_type": "markdown",
   "metadata": {
    "application/vnd.databricks.v1+cell": {
     "cellMetadata": {
      "byteLimit": 2048000,
      "rowLimit": 10000
     },
     "inputWidgets": {},
     "nuid": "9e915027-363d-4ae8-a597-b1b8ef44d69e",
     "showTitle": false,
     "tableResultSettingsMap": {},
     "title": ""
    }
   },
   "source": [
    "## Now we head to the Catalog explorer to take a look at our new table..."
   ]
  }
 ],
 "metadata": {
  "application/vnd.databricks.v1+notebook": {
   "computePreferences": {
    "hardware": {
     "accelerator": null,
     "gpuPoolId": null,
     "memory": null
    }
   },
   "dashboards": [],
   "environmentMetadata": {
    "base_environment": "",
    "environment_version": "3"
   },
   "inputWidgetPreferences": null,
   "language": "python",
   "notebookMetadata": {
    "mostRecentlyExecutedCommandWithImplicitDF": {
     "commandId": 5325136369447077,
     "dataframes": [
      "_sqldf"
     ]
    },
    "pythonIndentUnit": 4
   },
   "notebookName": "Bronze EDA",
   "widgets": {
    "catalog": {
     "currentValue": "ogden_demos",
     "nuid": "0a948046-79dc-4598-b2f4-2e549f794ddb",
     "typedWidgetInfo": {
      "autoCreated": true,
      "defaultValue": "",
      "label": null,
      "name": "catalog",
      "options": {
       "widgetDisplayType": "Text",
       "validationRegex": null
      },
      "parameterDataType": "String"
     },
     "widgetInfo": {
      "widgetType": "text",
      "defaultValue": "",
      "label": null,
      "name": "catalog",
      "options": {
       "widgetType": "text",
       "autoCreated": true,
       "validationRegex": null
      }
     }
    },
    "schema": {
     "currentValue": "bi_workshop",
     "nuid": "cd1b13f9-4909-48bb-b612-a6aa31dc4430",
     "typedWidgetInfo": {
      "autoCreated": true,
      "defaultValue": "",
      "label": null,
      "name": "schema",
      "options": {
       "widgetDisplayType": "Text",
       "validationRegex": null
      },
      "parameterDataType": "String"
     },
     "widgetInfo": {
      "widgetType": "text",
      "defaultValue": "",
      "label": null,
      "name": "schema",
      "options": {
       "widgetType": "text",
       "autoCreated": true,
       "validationRegex": null
      }
     }
    },
    "table": {
     "currentValue": "asset_trend_bronze",
     "nuid": "a7838ae6-92aa-49a3-8cbf-6418de798747",
     "typedWidgetInfo": {
      "autoCreated": true,
      "defaultValue": "",
      "label": null,
      "name": "table",
      "options": {
       "widgetDisplayType": "Text",
       "validationRegex": null
      },
      "parameterDataType": "String"
     },
     "widgetInfo": {
      "widgetType": "text",
      "defaultValue": "",
      "label": null,
      "name": "table",
      "options": {
       "widgetType": "text",
       "autoCreated": true,
       "validationRegex": null
      }
     }
    }
   }
  },
  "language_info": {
   "name": "python"
  }
 },
 "nbformat": 4,
 "nbformat_minor": 0
}
